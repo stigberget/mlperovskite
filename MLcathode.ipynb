{
 "cells": [
  {
   "cell_type": "markdown",
   "metadata": {},
   "source": [
    "## Imports"
   ]
  },
  {
   "cell_type": "code",
   "execution_count": 4,
   "metadata": {},
   "outputs": [],
   "source": [
    "import tensorflow as tf\n",
    "import tensorflow.keras as tfk\n",
    "import numpy as np \n",
    "from sklearn.model_selection import train_test_split \n",
    "from sklearn.utils import shuffle\n",
    "\n",
    "from utils.hyperparameter import HyperParameter\n",
    "from utils.tuner import TuningScheduler\n",
    "from network.layers import HyperModel\n",
    "\n",
    "\n",
    "from matminer.datasets.convenience_loaders import load_castelli_perovskites\n",
    "import matminer.featurizers.structure as sfeat\n",
    "\n",
    "# Alias important packages\n",
    "\n",
    "\n",
    "#tfkl = tf.keras.layers\n",
    "\n",
    "\n",
    "# Set seed value\n",
    "SEED = 10"
   ]
  },
  {
   "cell_type": "markdown",
   "metadata": {},
   "source": [
    "## Data Processing"
   ]
  },
  {
   "cell_type": "markdown",
   "metadata": {},
   "source": [
    "### Load dataset"
   ]
  },
  {
   "cell_type": "code",
   "execution_count": 54,
   "metadata": {},
   "outputs": [
    {
     "data": {
      "text/html": [
       "<div>\n",
       "<style scoped>\n",
       "    .dataframe tbody tr th:only-of-type {\n",
       "        vertical-align: middle;\n",
       "    }\n",
       "\n",
       "    .dataframe tbody tr th {\n",
       "        vertical-align: top;\n",
       "    }\n",
       "\n",
       "    .dataframe thead th {\n",
       "        text-align: right;\n",
       "    }\n",
       "</style>\n",
       "<table border=\"1\" class=\"dataframe\">\n",
       "  <thead>\n",
       "    <tr style=\"text-align: right;\">\n",
       "      <th></th>\n",
       "      <th>fermi level</th>\n",
       "      <th>fermi width</th>\n",
       "      <th>e_form</th>\n",
       "      <th>gap is direct</th>\n",
       "      <th>structure</th>\n",
       "      <th>mu_b</th>\n",
       "      <th>formula</th>\n",
       "      <th>vbm</th>\n",
       "      <th>cbm</th>\n",
       "      <th>gap gllbsc</th>\n",
       "    </tr>\n",
       "  </thead>\n",
       "  <tbody>\n",
       "    <tr>\n",
       "      <th>0</th>\n",
       "      <td>0.312138</td>\n",
       "      <td>0.001837</td>\n",
       "      <td>2.16</td>\n",
       "      <td>True</td>\n",
       "      <td>[[0. 0. 0.] Rh, [1.97726555 1.97726555 1.97726...</td>\n",
       "      <td>1.974478e-02</td>\n",
       "      <td>RhTeN3</td>\n",
       "      <td>6.187694</td>\n",
       "      <td>6.187694</td>\n",
       "      <td>0.0</td>\n",
       "    </tr>\n",
       "    <tr>\n",
       "      <th>1</th>\n",
       "      <td>0.297083</td>\n",
       "      <td>0.001837</td>\n",
       "      <td>1.52</td>\n",
       "      <td>True</td>\n",
       "      <td>[[2.54041798 0.         0.        ] Hf, [1.020...</td>\n",
       "      <td>-2.253054e-05</td>\n",
       "      <td>HfTeO3</td>\n",
       "      <td>6.033125</td>\n",
       "      <td>6.033125</td>\n",
       "      <td>0.0</td>\n",
       "    </tr>\n",
       "    <tr>\n",
       "      <th>2</th>\n",
       "      <td>0.191139</td>\n",
       "      <td>0.003675</td>\n",
       "      <td>1.48</td>\n",
       "      <td>True</td>\n",
       "      <td>[[0.60790913 0.         0.        ] Re, [2.186...</td>\n",
       "      <td>4.982109e+00</td>\n",
       "      <td>ReAsO2F</td>\n",
       "      <td>6.602253</td>\n",
       "      <td>6.602253</td>\n",
       "      <td>0.0</td>\n",
       "    </tr>\n",
       "    <tr>\n",
       "      <th>3</th>\n",
       "      <td>0.316346</td>\n",
       "      <td>0.001837</td>\n",
       "      <td>1.24</td>\n",
       "      <td>True</td>\n",
       "      <td>[[2.83091357 0.         0.        ] W, [2.6573...</td>\n",
       "      <td>-8.684496e-01</td>\n",
       "      <td>WReO2S</td>\n",
       "      <td>5.738462</td>\n",
       "      <td>5.738462</td>\n",
       "      <td>0.0</td>\n",
       "    </tr>\n",
       "    <tr>\n",
       "      <th>4</th>\n",
       "      <td>0.312658</td>\n",
       "      <td>0.003675</td>\n",
       "      <td>0.62</td>\n",
       "      <td>True</td>\n",
       "      <td>[[0.00518937 0.         0.        ] Bi, [2.172...</td>\n",
       "      <td>2.164069e-15</td>\n",
       "      <td>BiHfO2F</td>\n",
       "      <td>6.074736</td>\n",
       "      <td>6.074736</td>\n",
       "      <td>0.0</td>\n",
       "    </tr>\n",
       "  </tbody>\n",
       "</table>\n",
       "</div>"
      ],
      "text/plain": [
       "   fermi level  fermi width  e_form  gap is direct  \\\n",
       "0     0.312138     0.001837    2.16           True   \n",
       "1     0.297083     0.001837    1.52           True   \n",
       "2     0.191139     0.003675    1.48           True   \n",
       "3     0.316346     0.001837    1.24           True   \n",
       "4     0.312658     0.003675    0.62           True   \n",
       "\n",
       "                                           structure          mu_b  formula  \\\n",
       "0  [[0. 0. 0.] Rh, [1.97726555 1.97726555 1.97726...  1.974478e-02   RhTeN3   \n",
       "1  [[2.54041798 0.         0.        ] Hf, [1.020... -2.253054e-05   HfTeO3   \n",
       "2  [[0.60790913 0.         0.        ] Re, [2.186...  4.982109e+00  ReAsO2F   \n",
       "3  [[2.83091357 0.         0.        ] W, [2.6573... -8.684496e-01   WReO2S   \n",
       "4  [[0.00518937 0.         0.        ] Bi, [2.172...  2.164069e-15  BiHfO2F   \n",
       "\n",
       "        vbm       cbm  gap gllbsc  \n",
       "0  6.187694  6.187694         0.0  \n",
       "1  6.033125  6.033125         0.0  \n",
       "2  6.602253  6.602253         0.0  \n",
       "3  5.738462  5.738462         0.0  \n",
       "4  6.074736  6.074736         0.0  "
      ]
     },
     "execution_count": 54,
     "metadata": {},
     "output_type": "execute_result"
    }
   ],
   "source": [
    "# Load all data from the castelli perovskites dataset\n",
    "dataframe = load_castelli_perovskites() \n",
    "dataframe.head()"
   ]
  },
  {
   "cell_type": "code",
   "execution_count": 55,
   "metadata": {},
   "outputs": [],
   "source": [
    "# Remove the properties we do not wish to incorporate into our model\n",
    "\n",
    "dataframe.drop(columns=[\"formula\"]) \n",
    "\n",
    "# Isolate material structure\n",
    "\n",
    "structure_list = dataframe.loc[:,\"structure\"]\n",
    "\n",
    "# Define featurizers to convert structural data that is available prior to the scf DFT calculations\n",
    "\n",
    "DFfeaturizer = sfeat.DensityFeatures(\"packing fraction\")\n",
    "SCfeaturizer = sfeat.StructuralComplexity(symprec=5e-2) # Featurizer to get the structural complexity of the lattice structures\n",
    "\n",
    "packing_fraction = []\n",
    "scomplexity = []\n",
    "\n",
    "#for id, struct in enumerate(structure_list):\n",
    "    \n",
    "Y_data = np.array([dataframe.loc[:,\"fermi level\"],dataframe.loc[:,\"fermi width\"],dataframe.loc[:,\"e_form\"],dataframe.loc[:,\"cbm\"],dataframe.loc[:,\"vbm\"]])\n",
    "X_data = None\n"
   ]
  },
  {
   "cell_type": "markdown",
   "metadata": {},
   "source": [
    "## Standard Neural Networks"
   ]
  },
  {
   "cell_type": "markdown",
   "metadata": {},
   "source": [
    "#### Configure data"
   ]
  },
  {
   "cell_type": "code",
   "execution_count": null,
   "metadata": {},
   "outputs": [],
   "source": [
    "X_shuffled, Y_shuffled = shuffle([X_data,Y_data],random_state=SEED)\n",
    "X_train,X_test,Y_train,Y_test = train_test_split([X_shuffled,Y_shuffled],test_size=0.1)\n",
    "X_train,X_val,Y_train,Y_val = train_test_split([X_train,Y_train],test_size=0.2)\n",
    "\n",
    "\n",
    "batch_size = 250\n",
    "\n",
    "feature_ndims = X_train.shape[1]\n",
    "\n",
    "# Here we define the callbacks which we want to use\n",
    "early_stopping_callback = tfk.callbacks.EarlyStopping(patience=10)\n",
    "\n",
    "callbacks = [early_stopping_callback]\n",
    "\n",
    "# The rest of the model is concfigured in the layers.py file - The HyperModel class is constructed in such a way that we sample different hyperparameters"
   ]
  },
  {
   "cell_type": "markdown",
   "metadata": {},
   "source": [
    "#### Hyperparameter tuning"
   ]
  },
  {
   "cell_type": "code",
   "execution_count": 3,
   "metadata": {},
   "outputs": [
    {
     "ename": "NameError",
     "evalue": "name 'feature_ndims' is not defined",
     "output_type": "error",
     "traceback": [
      "\u001b[1;31m---------------------------------------------------------------------------\u001b[0m",
      "\u001b[1;31mNameError\u001b[0m                                 Traceback (most recent call last)",
      "Input \u001b[1;32mIn [3]\u001b[0m, in \u001b[0;36m<module>\u001b[1;34m\u001b[0m\n\u001b[0;32m     13\u001b[0m hyperparameters\u001b[38;5;241m.\u001b[39mselection(\u001b[38;5;124m\"\u001b[39m\u001b[38;5;124mactivation_2\u001b[39m\u001b[38;5;124m\"\u001b[39m,selections\u001b[38;5;241m=\u001b[39m[\u001b[38;5;124m\"\u001b[39m\u001b[38;5;124melu\u001b[39m\u001b[38;5;124m\"\u001b[39m,\u001b[38;5;124m\"\u001b[39m\u001b[38;5;124mrelu\u001b[39m\u001b[38;5;124m\"\u001b[39m])\n\u001b[0;32m     14\u001b[0m hyperparameters\u001b[38;5;241m.\u001b[39mselection(\u001b[38;5;124m\"\u001b[39m\u001b[38;5;124mactivation_3\u001b[39m\u001b[38;5;124m\"\u001b[39m,selections\u001b[38;5;241m=\u001b[39m[\u001b[38;5;124m\"\u001b[39m\u001b[38;5;124melu\u001b[39m\u001b[38;5;124m\"\u001b[39m,\u001b[38;5;124m\"\u001b[39m\u001b[38;5;124mrelu\u001b[39m\u001b[38;5;124m\"\u001b[39m])\n\u001b[1;32m---> 17\u001b[0m hypermodel \u001b[38;5;241m=\u001b[39m HyperModel(\u001b[43mfeature_ndims\u001b[49m)\n\u001b[0;32m     19\u001b[0m HPtuner \u001b[38;5;241m=\u001b[39m TuningScheduler(hyperparameters,hypermodel,X_train,Y_train,X_val,Y_val,callbacks)\n\u001b[0;32m     21\u001b[0m num_random_configs \u001b[38;5;241m=\u001b[39m \u001b[38;5;241m150\u001b[39m\n",
      "\u001b[1;31mNameError\u001b[0m: name 'feature_ndims' is not defined"
     ]
    }
   ],
   "source": [
    "hyperparameters = HyperParameter()\n",
    "\n",
    "# Definition of all the hyperparameters that we want sample\n",
    "hyperparameters.float(\"learning_rate\",min_val=1e-4,max_val=5e-2)\n",
    "hyperparameters.float(\"clipvalue\",min_val=1e-1,max_val=0.9)\n",
    "hyperparameters.float(\"beta_1\",min_val=0.87,max_val=0.93)\n",
    "hyperparameters.float(\"beta_2\",min_val=0.98888,max_val=0.9999)\n",
    "hyperparameters.float(\"decay_rate\",min_val=0.88,max_val=0.98)\n",
    "hyperparameters.int(\"decay_steps\",min_val=80,max_val=120)\n",
    "hyperparameters.boolean(\"layer_1\")\n",
    "hyperparameters.boolean(\"layer_2\")\n",
    "hyperparameters.selection(\"activation_1\",selections=[\"elu\",\"relu\"])\n",
    "hyperparameters.selection(\"activation_2\",selections=[\"elu\",\"relu\"])\n",
    "hyperparameters.selection(\"activation_3\",selections=[\"elu\",\"relu\"])\n",
    "\n",
    "\n",
    "hypermodel = HyperModel(feature_ndims)\n",
    "\n",
    "HPtuner = TuningScheduler(hyperparameters,hypermodel,X_train,Y_train,X_val,Y_val,callbacks)\n",
    "\n",
    "num_random_configs = 150\n",
    "num_grid_configs = 10\n",
    "num_epochs = 1e3\n",
    "\n",
    "tuned_hparams = HPtuner.rand_tune(num_random_configs,num_epochs,batch_size,verbose=1)"
   ]
  },
  {
   "cell_type": "markdown",
   "metadata": {},
   "source": [
    "#### Network Training"
   ]
  },
  {
   "cell_type": "code",
   "execution_count": null,
   "metadata": {},
   "outputs": [],
   "source": []
  },
  {
   "cell_type": "markdown",
   "metadata": {},
   "source": [
    "#### Model Validation"
   ]
  },
  {
   "cell_type": "code",
   "execution_count": null,
   "metadata": {},
   "outputs": [],
   "source": []
  }
 ],
 "metadata": {
  "interpreter": {
   "hash": "bad24ed25c2b947732a838092f0d8d41e635372f99b9ee1311e7e0dcafacfedd"
  },
  "kernelspec": {
   "display_name": "Python 3.9.7 64-bit ('tf-gpu': conda)",
   "language": "python",
   "name": "python3"
  },
  "language_info": {
   "codemirror_mode": {
    "name": "ipython",
    "version": 3
   },
   "file_extension": ".py",
   "mimetype": "text/x-python",
   "name": "python",
   "nbconvert_exporter": "python",
   "pygments_lexer": "ipython3",
   "version": "3.9.7"
  },
  "orig_nbformat": 4
 },
 "nbformat": 4,
 "nbformat_minor": 2
}
