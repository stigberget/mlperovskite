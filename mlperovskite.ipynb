{
 "cells": [
  {
   "cell_type": "markdown",
   "metadata": {},
   "source": [
    "# Imports"
   ]
  },
  {
   "cell_type": "code",
   "execution_count": 1,
   "metadata": {},
   "outputs": [],
   "source": [
    "import os\n",
    "import platform\n",
    "\n",
    "import tensorflow as tf\n",
    "import tensorflow.keras as tfk\n",
    "\n",
    "import numpy as np \n",
    "\n",
    "from sklearn.model_selection import train_test_split \n",
    "from sklearn.utils import shuffle\n",
    "\n",
    "import network.models as netmods\n",
    "import keras_tuner as kt\n",
    "\n",
    "from matminer.datasets.convenience_loaders import load_castelli_perovskites\n",
    "import matminer.featurizers.structure as sfeat\n",
    "import matminer.featurizers.composition as cfeat\n",
    "import matminer.featurizers.conversions as confeat\n",
    "import matminer.featurizers.site as site\n",
    "\n",
    "\n",
    "from sklearn.ensemble import RandomForestRegressor\n",
    "\n",
    "# Temporary packages for debugging\n",
    "from IPython.display import clear_output\n",
    "\n",
    "\n",
    "# Alias important packages\n",
    "\n",
    "\n",
    "tfkl = tf.keras.layers\n",
    "\n",
    "# Set seed value\n",
    "SEED = 10"
   ]
  },
  {
   "cell_type": "markdown",
   "metadata": {},
   "source": [
    "# Data Processing"
   ]
  },
  {
   "cell_type": "markdown",
   "metadata": {},
   "source": [
    "#### Load raw data"
   ]
  },
  {
   "cell_type": "code",
   "execution_count": 2,
   "metadata": {},
   "outputs": [
    {
     "data": {
      "text/html": [
       "<div>\n",
       "<style scoped>\n",
       "    .dataframe tbody tr th:only-of-type {\n",
       "        vertical-align: middle;\n",
       "    }\n",
       "\n",
       "    .dataframe tbody tr th {\n",
       "        vertical-align: top;\n",
       "    }\n",
       "\n",
       "    .dataframe thead th {\n",
       "        text-align: right;\n",
       "    }\n",
       "</style>\n",
       "<table border=\"1\" class=\"dataframe\">\n",
       "  <thead>\n",
       "    <tr style=\"text-align: right;\">\n",
       "      <th></th>\n",
       "      <th>fermi level</th>\n",
       "      <th>fermi width</th>\n",
       "      <th>e_form</th>\n",
       "      <th>gap is direct</th>\n",
       "      <th>structure</th>\n",
       "      <th>mu_b</th>\n",
       "      <th>formula</th>\n",
       "      <th>vbm</th>\n",
       "      <th>cbm</th>\n",
       "      <th>gap gllbsc</th>\n",
       "    </tr>\n",
       "  </thead>\n",
       "  <tbody>\n",
       "    <tr>\n",
       "      <th>0</th>\n",
       "      <td>0.312138</td>\n",
       "      <td>0.001837</td>\n",
       "      <td>2.16</td>\n",
       "      <td>True</td>\n",
       "      <td>[[0. 0. 0.] Rh, [1.97726555 1.97726555 1.97726...</td>\n",
       "      <td>1.974478e-02</td>\n",
       "      <td>RhTeN3</td>\n",
       "      <td>6.187694</td>\n",
       "      <td>6.187694</td>\n",
       "      <td>0.0</td>\n",
       "    </tr>\n",
       "    <tr>\n",
       "      <th>1</th>\n",
       "      <td>0.297083</td>\n",
       "      <td>0.001837</td>\n",
       "      <td>1.52</td>\n",
       "      <td>True</td>\n",
       "      <td>[[2.54041798 0.         0.        ] Hf, [1.020...</td>\n",
       "      <td>-2.253054e-05</td>\n",
       "      <td>HfTeO3</td>\n",
       "      <td>6.033125</td>\n",
       "      <td>6.033125</td>\n",
       "      <td>0.0</td>\n",
       "    </tr>\n",
       "    <tr>\n",
       "      <th>2</th>\n",
       "      <td>0.191139</td>\n",
       "      <td>0.003675</td>\n",
       "      <td>1.48</td>\n",
       "      <td>True</td>\n",
       "      <td>[[0.60790913 0.         0.        ] Re, [2.186...</td>\n",
       "      <td>4.982109e+00</td>\n",
       "      <td>ReAsO2F</td>\n",
       "      <td>6.602253</td>\n",
       "      <td>6.602253</td>\n",
       "      <td>0.0</td>\n",
       "    </tr>\n",
       "    <tr>\n",
       "      <th>3</th>\n",
       "      <td>0.316346</td>\n",
       "      <td>0.001837</td>\n",
       "      <td>1.24</td>\n",
       "      <td>True</td>\n",
       "      <td>[[2.83091357 0.         0.        ] W, [2.6573...</td>\n",
       "      <td>-8.684496e-01</td>\n",
       "      <td>WReO2S</td>\n",
       "      <td>5.738462</td>\n",
       "      <td>5.738462</td>\n",
       "      <td>0.0</td>\n",
       "    </tr>\n",
       "    <tr>\n",
       "      <th>4</th>\n",
       "      <td>0.312658</td>\n",
       "      <td>0.003675</td>\n",
       "      <td>0.62</td>\n",
       "      <td>True</td>\n",
       "      <td>[[0.00518937 0.         0.        ] Bi, [2.172...</td>\n",
       "      <td>2.164069e-15</td>\n",
       "      <td>BiHfO2F</td>\n",
       "      <td>6.074736</td>\n",
       "      <td>6.074736</td>\n",
       "      <td>0.0</td>\n",
       "    </tr>\n",
       "  </tbody>\n",
       "</table>\n",
       "</div>"
      ],
      "text/plain": [
       "   fermi level  fermi width  e_form  gap is direct  \\\n",
       "0     0.312138     0.001837    2.16           True   \n",
       "1     0.297083     0.001837    1.52           True   \n",
       "2     0.191139     0.003675    1.48           True   \n",
       "3     0.316346     0.001837    1.24           True   \n",
       "4     0.312658     0.003675    0.62           True   \n",
       "\n",
       "                                           structure          mu_b  formula  \\\n",
       "0  [[0. 0. 0.] Rh, [1.97726555 1.97726555 1.97726...  1.974478e-02   RhTeN3   \n",
       "1  [[2.54041798 0.         0.        ] Hf, [1.020... -2.253054e-05   HfTeO3   \n",
       "2  [[0.60790913 0.         0.        ] Re, [2.186...  4.982109e+00  ReAsO2F   \n",
       "3  [[2.83091357 0.         0.        ] W, [2.6573... -8.684496e-01   WReO2S   \n",
       "4  [[0.00518937 0.         0.        ] Bi, [2.172...  2.164069e-15  BiHfO2F   \n",
       "\n",
       "        vbm       cbm  gap gllbsc  \n",
       "0  6.187694  6.187694         0.0  \n",
       "1  6.033125  6.033125         0.0  \n",
       "2  6.602253  6.602253         0.0  \n",
       "3  5.738462  5.738462         0.0  \n",
       "4  6.074736  6.074736         0.0  "
      ]
     },
     "execution_count": 2,
     "metadata": {},
     "output_type": "execute_result"
    }
   ],
   "source": [
    "# Load all data from the castelli perovskites dataset\n",
    "dataframe = load_castelli_perovskites() \n",
    "dataframe.head()"
   ]
  },
  {
   "cell_type": "markdown",
   "metadata": {},
   "source": [
    "## Coulomb Matrix dataset"
   ]
  },
  {
   "cell_type": "markdown",
   "metadata": {},
   "source": [
    "#### Organize and cure CM dataset"
   ]
  },
  {
   "cell_type": "code",
   "execution_count": null,
   "metadata": {},
   "outputs": [],
   "source": [
    "# Remove the properties we do not wish to incorporate into our model\n",
    "\n",
    "dataframe = dataframe[dataframe[\"gap is direct\"] != False]\n",
    "\n",
    "# Isolate material structure\n",
    "\n",
    "structure_list = dataframe.loc[:,\"structure\"]\n",
    "\n",
    "# Define featurizers to convert structural data that is available prior to the scf DFT calculations\n",
    "\n",
    "DFfeaturizer = sfeat.DensityFeatures(\"density\")\n",
    "CMfeaturizer = sfeat.CoulombMatrix()\n",
    "SCfeaturizer = sfeat.StructuralComplexity(symprec=5e-2) # Featurizer to get the structural complexity of the lattice structures\n",
    "\n",
    "CMStructure = CMfeaturizer.fit(structure_list)\n",
    "\n",
    "X_i = []\n",
    "\n",
    "#num_structures = len(structure_list)\n",
    "\n",
    "#coulomb_matrix = CMfeaturizer.featurize(QMStructure) \n",
    "\n",
    "for i,structure in enumerate(structure_list):\n",
    "    X_i = [\n",
    "        *CMStructure.featurize(structure),\n",
    "        #*DFfeaturizer.featurize(structure)\n",
    "    ]\n",
    "    \n",
    "\n",
    "    if(i == 0):\n",
    "        X_data = np.array(X_i)\n",
    "    else:\n",
    "        X_data = np.vstack([X_data,X_i])\n",
    "    \n",
    "Y_data = np.array([dataframe.loc[:,\"fermi level\"],dataframe.loc[:,\"fermi width\"],dataframe.loc[:,\"e_form\"],dataframe.loc[:,\"cbm\"],dataframe.loc[:,\"vbm\"]]).T\n",
    "\n"
   ]
  },
  {
   "cell_type": "markdown",
   "metadata": {},
   "source": [
    "#### Save processed CM dataset"
   ]
  },
  {
   "cell_type": "code",
   "execution_count": null,
   "metadata": {},
   "outputs": [],
   "source": [
    "finp = \"CMinputs.txt\"\n",
    "fout = \"CMoutputs.txt\"\n",
    "folder = \"data\"\n",
    "\n",
    "\n",
    "if not os.path.isdir(folder):\n",
    "    os.mkdir(folder)\n",
    "\n",
    "if(platform.system() == 'Linux' or platform.system() == 'Darwin'):\n",
    "    finp_path = folder + \"/\" + finp \n",
    "    fout_path = folder + \"/\" + fout\n",
    "elif(platform.system() == 'Windows'):\n",
    "    finp_path = folder + \"\\\\\" + finp\n",
    "    fout_path = folder + \"\\\\\" + fout\n",
    "\n",
    "fileID = open(finp_path,'w')\n",
    "np.savetxt(finp_path,X_data)\n",
    "fileID.close()\n",
    "\n",
    "fileID = open(fout_path,'w')\n",
    "np.savetxt(fout_path,Y_data)\n",
    "fileID.close()"
   ]
  },
  {
   "cell_type": "markdown",
   "metadata": {},
   "source": [
    "#### Load processed CM dataset"
   ]
  },
  {
   "cell_type": "code",
   "execution_count": 2,
   "metadata": {},
   "outputs": [],
   "source": [
    "finp = \"SNNinputs.txt\"\n",
    "fout = \"SNNoutputs.txt\"\n",
    "folder = \"data\"\n",
    "\n",
    "if(platform.system() == 'Linux' or platform.system() == 'Darwin'):\n",
    "    finp_path = folder + \"/\" + finp \n",
    "    fout_path = folder + \"/\" + fout\n",
    "elif(platform.system() == 'Windows'):\n",
    "    finp_path = folder + \"\\\\\" + finp\n",
    "    fout_path = folder + \"\\\\\" + fout\n",
    "\n",
    "X_data = np.loadtxt(finp_path)\n",
    "Y_data = np.loadtxt(fout_path)"
   ]
  },
  {
   "cell_type": "markdown",
   "metadata": {},
   "source": [
    "## GNN dataset"
   ]
  },
  {
   "cell_type": "markdown",
   "metadata": {},
   "source": [
    "#### Organize and cure GNN dataset"
   ]
  },
  {
   "cell_type": "code",
   "execution_count": null,
   "metadata": {},
   "outputs": [],
   "source": [
    "# Isolate material structure\n",
    "structure_list = dataframe.loc[:,\"structure\"]\n",
    "\n",
    "DFfeaturizer = sfeat.DensityFeatures(\"density\")\n",
    "CMfeaturizer = sfeat.CoulombMatrix()\n",
    "\n",
    "CMStructure = CMfeaturizer.fit(structure_list)\n",
    "\n",
    "Struct2Composition = confeat.StructureToComposition()\n",
    "OxideStates = confeat.StructureToOxidStructure()\n",
    "ion = cfeat.IonProperty()\n",
    "Ea = cfeat.ElectronAffinity()\n",
    "\n",
    "rcut = 10\n",
    "nmax = 2\n",
    "lmax = 4\n",
    "sigma = 2\n",
    "rbf = \"gto\"\n",
    "isperiodic = True\n",
    "\n",
    "FSOAP = site.SOAP(rcut=rcut,nmax=nmax,lmax=lmax,sigma=sigma,rbf=rbf,periodic=isperiodic)\n",
    "\n",
    "\n",
    "num_skips = 0\n",
    "\n",
    "data_index = []\n",
    "\n",
    "for ctr,structure in enumerate(structure_list):\n",
    "    structure = OxideStates.featurize(structure)\n",
    "    composition = Struct2Composition.featurize(*structure)\n",
    "    \n",
    "    try:\n",
    "        e_affinity = Ea.featurize(*composition)\n",
    "    except ValueError:\n",
    "        num_skips += 1\n",
    "        continue\n",
    "    else:\n",
    "\n",
    "        #FSOAP.fit(*structure)\n",
    "        #soap = FSOAP.featurize(*structure,0)\n",
    "        #ion_property = ion.featurize(*composition)\n",
    "        coulomb_matrix = CMStructure.featurize(*structure)\n",
    "        #density = DFfeaturizer.featurize(*structure)\n",
    "        #soap = FSOAP\n",
    "\n",
    "        X_i = [\n",
    "            *coulomb_matrix,\n",
    "            #*e_affinity,\n",
    "            #*ion_property,\n",
    "            #*density\n",
    "        ]\n",
    "\n",
    "        data_index.append(ctr)\n",
    "\n",
    "        if(ctr == 0):\n",
    "            X_data = np.array(X_i)\n",
    "        else:\n",
    "            X_data = np.vstack([X_data,X_i])\n",
    "\n",
    "        \n",
    "        \n",
    "        \n",
    "print(f\"Number of entries removed {num_skips}\")\n",
    "\n",
    "\n",
    "Y_data = np.array([dataframe.loc[:,\"fermi level\"],dataframe.loc[:,\"fermi width\"],dataframe.loc[:,\"e_form\"],dataframe.loc[:,\"cbm\"],dataframe.loc[:,\"vbm\"]]).T\n",
    "Y_data = Y_data[data_index][:]"
   ]
  },
  {
   "cell_type": "markdown",
   "metadata": {},
   "source": [
    "#### Save processed GNN dataset"
   ]
  },
  {
   "cell_type": "code",
   "execution_count": null,
   "metadata": {},
   "outputs": [],
   "source": [
    "finp = \"GNNinputs.txt\"\n",
    "fout = \"GNNoutputs.txt\"\n",
    "folder = \"data\"\n",
    "\n",
    "\n",
    "if not os.path.isdir(folder):\n",
    "    os.mkdir(folder)\n",
    "\n",
    "if(platform.system() == 'Linux' or platform.system() == 'Darwin'):\n",
    "    finp_path = folder + \"/\" + finp \n",
    "    fout_path = folder + \"/\" + fout\n",
    "elif(platform.system() == 'Windows'):\n",
    "    finp_path = folder + \"\\\\\" + finp\n",
    "    fout_path = folder + \"\\\\\" + fout\n",
    "\n",
    "fileID = open(finp_path,'w')\n",
    "np.savetxt(finp_path,X_data)\n",
    "fileID.close()\n",
    "\n",
    "fileID = open(fout_path,'w')\n",
    "np.savetxt(fout_path,Y_data)\n",
    "fileID.close()"
   ]
  },
  {
   "cell_type": "markdown",
   "metadata": {},
   "source": [
    "#### Load processed GNN dataset"
   ]
  },
  {
   "cell_type": "code",
   "execution_count": 2,
   "metadata": {},
   "outputs": [],
   "source": [
    "finp = \"GNNinputs.txt\"\n",
    "fout = \"GNNoutputs.txt\"\n",
    "folder = \"data\"\n",
    "\n",
    "if(platform.system() == 'Linux' or platform.system() == 'Darwin'):\n",
    "    finp_path = folder + \"/\" + finp \n",
    "    fout_path = folder + \"/\" + fout\n",
    "elif(platform.system() == 'Windows'):\n",
    "    finp_path = folder + \"\\\\\" + finp\n",
    "    fout_path = folder + \"\\\\\" + fout\n",
    "\n",
    "X_data = np.loadtxt(finp_path)\n",
    "Y_data = np.loadtxt(fout_path)"
   ]
  },
  {
   "cell_type": "markdown",
   "metadata": {},
   "source": [
    "# Standard Neural Networks"
   ]
  },
  {
   "cell_type": "markdown",
   "metadata": {},
   "source": [
    "#### Configure data"
   ]
  },
  {
   "cell_type": "code",
   "execution_count": null,
   "metadata": {},
   "outputs": [],
   "source": [
    "X_shuffled, Y_shuffled = shuffle([X_data,Y_data],random_state=SEED)\n",
    "X_train,X_test,Y_train,Y_test = train_test_split(X_shuffled,Y_shuffled,test_size=0.1)\n",
    "X_train,X_val,Y_train,Y_val = train_test_split(X_train,Y_train,test_size=0.2)\n",
    "\n",
    "\n",
    "batch_size = 50\n",
    "num_epochs = int(1000)\n",
    "\n",
    "feature_ndims = X_train.shape[1]\n",
    "\n",
    "# Here we define the callbacks which we want to use\n",
    "early_stopping_callback = tfk.callbacks.EarlyStopping(patience=10)\n",
    "tensorboard_callback = tfk.callbacks.TensorBoard(log_dir=\".\\\\tmp\\\\logs\")\n",
    "\n",
    "callbacks = [early_stopping_callback,tensorboard_callback]\n",
    "\n",
    "# The rest of the model is configured in the layers.py file - The HyperModel class is constructed in such a way that we sample different hyperparameters"
   ]
  },
  {
   "cell_type": "markdown",
   "metadata": {},
   "source": [
    "#### Hyperparameter tuning"
   ]
  },
  {
   "cell_type": "markdown",
   "metadata": {},
   "source": [
    "##### Fermi Level"
   ]
  },
  {
   "cell_type": "code",
   "execution_count": null,
   "metadata": {},
   "outputs": [],
   "source": [
    "fermi_level_train = Y_train[:,0]\n",
    "fermi_level_val = Y_val[:,0]\n",
    "fermi_level_test = Y_test[:,0]\n",
    "\n",
    "hyperparameters = kt.HyperParameters()\n",
    "hypermodel = netmods.HyperModel(feature_ndims)\n",
    "rand_tuner = kt.RandomSearch(hypermodel = hypermodel.build_model,max_trials=150,overwrite=True,objective='val_loss',directory=\".\\\\tmp\\\\hptune\")\n",
    "\n",
    "rand_tuner.search(x=X_train,y=fermi_level_train,validation_data=(X_val,fermi_level_val),epochs=num_epochs,batch_size=batch_size,callbacks=callbacks)\n"
   ]
  },
  {
   "cell_type": "code",
   "execution_count": null,
   "metadata": {},
   "outputs": [],
   "source": []
  },
  {
   "cell_type": "markdown",
   "metadata": {},
   "source": [
    "#### Network Training"
   ]
  },
  {
   "cell_type": "code",
   "execution_count": 3,
   "metadata": {},
   "outputs": [],
   "source": [
    "import shutil\n",
    "shutil.rmtree(\".\\\\tmp\")\n"
   ]
  },
  {
   "cell_type": "code",
   "execution_count": 4,
   "metadata": {},
   "outputs": [
    {
     "name": "stderr",
     "output_type": "stream",
     "text": [
      "UsageError: Line magic function `%tensorboard` not found.\n"
     ]
    }
   ],
   "source": [
    "%tensorboard --logdir /tmp/logs"
   ]
  },
  {
   "cell_type": "code",
   "execution_count": 5,
   "metadata": {},
   "outputs": [
    {
     "name": "stdout",
     "output_type": "stream",
     "text": [
      "Prediction: [[1.7022982 ]\n",
      " [0.94210994]]\n",
      "Truth: [2.06 0.82]\n"
     ]
    }
   ],
   "source": [
    "scale_factor = 1e3\n",
    "X_data_scaled = np.divide(X_data,scale_factor)\n",
    "\n",
    "X_shuffled, Y_shuffled = shuffle([X_data_scaled,Y_data],random_state=SEED)\n",
    "X_train,X_test,Y_train,Y_test = train_test_split(X_shuffled,Y_shuffled,test_size=0.1)\n",
    "X_train,X_val,Y_train,Y_val = train_test_split(X_train,Y_train,test_size=0.2)\n",
    "\n",
    "feature_ndims = X_train.shape[1]\n",
    "\n",
    "fermi_level_train = Y_train[:,2]\n",
    "fermi_level_val = Y_val[:,2]\n",
    "fermi_level_test = Y_test[:,2]\n",
    "\n",
    "\n",
    "Qmodel_test = netmods.fermi_level_model(feature_ndims)\n",
    "\n",
    "# Check if we can overfit the model (ie. does it even learn?)\n",
    "\n",
    "Qmodel_test.fit(x=X_train[0:2,:],y=fermi_level_train[0:2],epochs=400,verbose=0)\n",
    "\n",
    "print(f\"Prediction: {Qmodel_test.predict(X_train[0:2,:])}\")\n",
    "print(f\"Truth: {fermi_level_train[0:2]}\")"
   ]
  },
  {
   "cell_type": "code",
   "execution_count": 6,
   "metadata": {},
   "outputs": [
    {
     "name": "stdout",
     "output_type": "stream",
     "text": [
      "Epoch 1/3000\n",
      "124/124 [==============================] - 3s 14ms/step - loss: 0.5516 - val_loss: 0.6087\n",
      "Epoch 2/3000\n",
      "124/124 [==============================] - 1s 10ms/step - loss: 0.5195 - val_loss: 0.5762\n",
      "Epoch 3/3000\n",
      "124/124 [==============================] - 1s 12ms/step - loss: 0.5192 - val_loss: 0.5344\n",
      "Epoch 4/3000\n",
      "124/124 [==============================] - 1s 9ms/step - loss: 0.5136 - val_loss: 0.5233\n",
      "Epoch 5/3000\n",
      "124/124 [==============================] - 1s 9ms/step - loss: 0.5130 - val_loss: 0.5294\n",
      "Epoch 6/3000\n",
      "124/124 [==============================] - 1s 9ms/step - loss: 0.5117 - val_loss: 0.5312\n",
      "Epoch 7/3000\n",
      "124/124 [==============================] - 1s 8ms/step - loss: 0.5111 - val_loss: 0.5195\n",
      "Epoch 8/3000\n",
      "124/124 [==============================] - 1s 9ms/step - loss: 0.5099 - val_loss: 0.5261\n",
      "Epoch 9/3000\n",
      "124/124 [==============================] - 1s 9ms/step - loss: 0.5085 - val_loss: 0.5213\n",
      "Epoch 10/3000\n",
      "124/124 [==============================] - 1s 9ms/step - loss: 0.5089 - val_loss: 0.5141\n",
      "Epoch 11/3000\n",
      "124/124 [==============================] - 1s 8ms/step - loss: 0.5087 - val_loss: 0.5211\n",
      "Epoch 12/3000\n",
      "124/124 [==============================] - 1s 9ms/step - loss: 0.5054 - val_loss: 0.5109\n",
      "Epoch 13/3000\n",
      "124/124 [==============================] - 1s 8ms/step - loss: 0.5028 - val_loss: 0.5124\n",
      "Epoch 14/3000\n",
      "124/124 [==============================] - 1s 9ms/step - loss: 0.5011 - val_loss: 0.5092\n",
      "Epoch 15/3000\n",
      "124/124 [==============================] - 1s 9ms/step - loss: 0.5010 - val_loss: 0.5170\n",
      "Epoch 16/3000\n",
      "124/124 [==============================] - 1s 9ms/step - loss: 0.5002 - val_loss: 0.5022\n",
      "Epoch 17/3000\n",
      "124/124 [==============================] - 1s 8ms/step - loss: 0.4977 - val_loss: 0.5049\n",
      "Epoch 18/3000\n",
      "124/124 [==============================] - 1s 8ms/step - loss: 0.4995 - val_loss: 0.5043\n",
      "Epoch 19/3000\n",
      "124/124 [==============================] - 1s 9ms/step - loss: 0.4972 - val_loss: 0.5005\n",
      "Epoch 20/3000\n",
      "124/124 [==============================] - 1s 9ms/step - loss: 0.4958 - val_loss: 0.4997\n",
      "Epoch 21/3000\n",
      "124/124 [==============================] - 1s 9ms/step - loss: 0.4960 - val_loss: 0.5047\n",
      "Epoch 22/3000\n",
      "124/124 [==============================] - 1s 8ms/step - loss: 0.4962 - val_loss: 0.5017\n",
      "Epoch 23/3000\n",
      "124/124 [==============================] - 1s 8ms/step - loss: 0.4946 - val_loss: 0.4985\n",
      "Epoch 24/3000\n",
      "124/124 [==============================] - 1s 9ms/step - loss: 0.4947 - val_loss: 0.5001\n",
      "Epoch 25/3000\n",
      "124/124 [==============================] - 1s 8ms/step - loss: 0.4921 - val_loss: 0.4977\n",
      "Epoch 26/3000\n",
      "124/124 [==============================] - 1s 9ms/step - loss: 0.4939 - val_loss: 0.5004\n",
      "Epoch 27/3000\n",
      "124/124 [==============================] - 1s 9ms/step - loss: 0.4930 - val_loss: 0.4967\n",
      "Epoch 28/3000\n",
      "124/124 [==============================] - 1s 8ms/step - loss: 0.4924 - val_loss: 0.4950\n",
      "Epoch 29/3000\n",
      "124/124 [==============================] - 1s 9ms/step - loss: 0.4919 - val_loss: 0.4952\n",
      "Epoch 30/3000\n",
      "124/124 [==============================] - 1s 8ms/step - loss: 0.4916 - val_loss: 0.4977\n",
      "Epoch 31/3000\n",
      "124/124 [==============================] - 1s 8ms/step - loss: 0.4923 - val_loss: 0.4946\n",
      "Epoch 32/3000\n",
      "124/124 [==============================] - 1s 9ms/step - loss: 0.4919 - val_loss: 0.4935\n",
      "Epoch 33/3000\n",
      "124/124 [==============================] - 1s 9ms/step - loss: 0.4908 - val_loss: 0.4946\n",
      "Epoch 34/3000\n",
      "124/124 [==============================] - 1s 9ms/step - loss: 0.4910 - val_loss: 0.4935\n",
      "Epoch 35/3000\n",
      "124/124 [==============================] - 1s 8ms/step - loss: 0.4915 - val_loss: 0.4937\n",
      "Epoch 36/3000\n",
      "124/124 [==============================] - 1s 8ms/step - loss: 0.4924 - val_loss: 0.4964\n",
      "Epoch 37/3000\n",
      "124/124 [==============================] - 1s 9ms/step - loss: 0.4909 - val_loss: 0.4930\n",
      "Epoch 38/3000\n",
      "124/124 [==============================] - 1s 8ms/step - loss: 0.4900 - val_loss: 0.4928\n",
      "Epoch 39/3000\n",
      "124/124 [==============================] - 1s 8ms/step - loss: 0.4910 - val_loss: 0.4927\n",
      "Epoch 40/3000\n",
      "124/124 [==============================] - 1s 8ms/step - loss: 0.4906 - val_loss: 0.4928\n",
      "Epoch 41/3000\n",
      "124/124 [==============================] - 1s 8ms/step - loss: 0.4908 - val_loss: 0.4925\n",
      "Epoch 42/3000\n",
      "124/124 [==============================] - 1s 8ms/step - loss: 0.4902 - val_loss: 0.4932\n",
      "Epoch 43/3000\n",
      "124/124 [==============================] - 1s 8ms/step - loss: 0.4893 - val_loss: 0.4926\n",
      "Epoch 44/3000\n",
      "124/124 [==============================] - 1s 8ms/step - loss: 0.4898 - val_loss: 0.4930\n",
      "Epoch 45/3000\n",
      "124/124 [==============================] - 1s 8ms/step - loss: 0.4897 - val_loss: 0.4924\n",
      "Epoch 46/3000\n",
      "124/124 [==============================] - 1s 8ms/step - loss: 0.4903 - val_loss: 0.4923\n",
      "Epoch 47/3000\n",
      "124/124 [==============================] - 1s 9ms/step - loss: 0.4899 - val_loss: 0.4926\n",
      "Epoch 48/3000\n",
      "124/124 [==============================] - 1s 9ms/step - loss: 0.4900 - val_loss: 0.4924\n",
      "Epoch 49/3000\n",
      "124/124 [==============================] - 1s 9ms/step - loss: 0.4895 - val_loss: 0.4924\n",
      "Epoch 50/3000\n",
      "124/124 [==============================] - 1s 9ms/step - loss: 0.4898 - val_loss: 0.4924\n",
      "Epoch 51/3000\n",
      "124/124 [==============================] - 1s 9ms/step - loss: 0.4899 - val_loss: 0.4924\n",
      "Epoch 52/3000\n",
      "124/124 [==============================] - 1s 9ms/step - loss: 0.4908 - val_loss: 0.4924\n",
      "Epoch 53/3000\n",
      "124/124 [==============================] - 1s 8ms/step - loss: 0.4897 - val_loss: 0.4924\n",
      "Epoch 54/3000\n",
      "124/124 [==============================] - 1s 8ms/step - loss: 0.4891 - val_loss: 0.4924\n",
      "Epoch 55/3000\n",
      "124/124 [==============================] - 1s 9ms/step - loss: 0.4894 - val_loss: 0.4924\n",
      "Epoch 56/3000\n",
      "124/124 [==============================] - 1s 9ms/step - loss: 0.4899 - val_loss: 0.4925\n",
      "Epoch 57/3000\n",
      "124/124 [==============================] - 1s 9ms/step - loss: 0.4906 - val_loss: 0.4925\n",
      "Epoch 58/3000\n",
      "124/124 [==============================] - 1s 9ms/step - loss: 0.4909 - val_loss: 0.4925\n",
      "Epoch 59/3000\n",
      "124/124 [==============================] - 1s 9ms/step - loss: 0.4902 - val_loss: 0.4925\n",
      "Epoch 60/3000\n",
      "124/124 [==============================] - 1s 9ms/step - loss: 0.4900 - val_loss: 0.4925\n",
      "Epoch 61/3000\n",
      "124/124 [==============================] - 1s 9ms/step - loss: 0.4901 - val_loss: 0.4925\n",
      "Epoch 62/3000\n",
      "124/124 [==============================] - 1s 9ms/step - loss: 0.4894 - val_loss: 0.4925\n",
      "Epoch 63/3000\n",
      "124/124 [==============================] - 1s 9ms/step - loss: 0.4897 - val_loss: 0.4925\n",
      "Epoch 64/3000\n",
      "124/124 [==============================] - 1s 9ms/step - loss: 0.4903 - val_loss: 0.4925\n",
      "Epoch 65/3000\n",
      "124/124 [==============================] - 1s 8ms/step - loss: 0.4889 - val_loss: 0.4925\n",
      "Epoch 66/3000\n",
      "124/124 [==============================] - 1s 9ms/step - loss: 0.4896 - val_loss: 0.4925\n"
     ]
    },
    {
     "data": {
      "text/plain": [
       "<keras.callbacks.History at 0x2d9d655cac0>"
      ]
     },
     "execution_count": 6,
     "metadata": {},
     "output_type": "execute_result"
    }
   ],
   "source": [
    "# Here we define the callbacks which we want to use\n",
    "batch_size = 100\n",
    "val_batch_size = 50\n",
    "num_epochs = 3000\n",
    "\n",
    "\n",
    "early_stopping_callback = tfk.callbacks.EarlyStopping(patience=20)\n",
    "tensorboard_callback = tfk.callbacks.TensorBoard(log_dir=\".\\\\tmp\\\\logs\")\n",
    "\n",
    "Qmodel = netmods.fermi_level_model(feature_ndims)\n",
    "\n",
    "callbacks = [early_stopping_callback,tensorboard_callback]\n",
    "\n",
    "Qmodel.fit(x=X_train,y=fermi_level_train,validation_data=(X_val,fermi_level_val),epochs=num_epochs,batch_size=batch_size,shuffle=True,callbacks=callbacks)"
   ]
  },
  {
   "cell_type": "code",
   "execution_count": null,
   "metadata": {},
   "outputs": [],
   "source": [
    "model_dir = \"\\\\model\\\\bgmodel\"\n",
    "Qmodel.save(model_dir)"
   ]
  },
  {
   "cell_type": "markdown",
   "metadata": {},
   "source": [
    "#### Model Validation"
   ]
  },
  {
   "cell_type": "code",
   "execution_count": 7,
   "metadata": {},
   "outputs": [
    {
     "data": {
      "image/png": "[encoded data removed]",
      "text/plain": [
       "<Figure size 432x288 with 1 Axes>"
      ]
     },
     "metadata": {
      "needs_background": "light"
     },
     "output_type": "display_data"
    },
    {
     "data": {
      "image/png": "[encoded data removed]",
      "text/plain": [
       "<Figure size 432x288 with 1 Axes>"
      ]
     },
     "metadata": {
      "needs_background": "light"
     },
     "output_type": "display_data"
    }
   ],
   "source": [
    "sample_points = 1000\n",
    "\n",
    "X_test_sample = X_test[0:sample_points]\n",
    "y_test_sample = Y_test[0:sample_points]\n",
    "\n",
    "Qmodel.parity_plot(X_test_sample,y_test_sample,sample_dims=2)\n",
    "\n",
    "Qmodel.parity_patch_plot(X_test_sample,y_test_sample,sample_dims=2)"
   ]
  },
  {
   "cell_type": "markdown",
   "metadata": {},
   "source": [
    "# Random Forests"
   ]
  },
  {
   "cell_type": "markdown",
   "metadata": {},
   "source": [
    "### Data configuration"
   ]
  },
  {
   "cell_type": "code",
   "execution_count": 3,
   "metadata": {},
   "outputs": [],
   "source": [
    "from sklearn.metrics import mean_absolute_error as mae\n",
    "from utils.viewer import patch_parity_plot,parity_plot\n",
    "\n",
    "X_shuffled,Y_shuffled = shuffle([X_data,Y_data],random_state=SEED)\n",
    "\n",
    "X_train,X_test,Y_train,Y_test = train_test_split(X_shuffled,Y_shuffled,test_size=0.2)\n",
    "\n",
    "fermi_level_train = Y_train[:,0]\n",
    "fermi_level_test = Y_test[:,0]\n",
    "\n",
    "fermi_width_train = Y_train[:,1]\n",
    "fermi_width_test = Y_test[:,1]\n",
    "\n",
    "eform_train = Y_train[:,2]\n",
    "eform_test = Y_test[:,2]\n",
    "\n",
    "cbm_train = Y_train[:,3]\n",
    "cbm_test = Y_test[:,3]\n",
    "\n",
    "vbm_train = Y_train[:,4]\n",
    "vbm_test = Y_test[:,4]\n"
   ]
  },
  {
   "cell_type": "markdown",
   "metadata": {},
   "source": [
    "## Random Forests Fitting"
   ]
  },
  {
   "cell_type": "markdown",
   "metadata": {},
   "source": [
    "##### Fermi level"
   ]
  },
  {
   "cell_type": "code",
   "execution_count": 4,
   "metadata": {},
   "outputs": [
    {
     "name": "stdout",
     "output_type": "stream",
     "text": [
      "Training Mean Absolute Error: 0.007847898780718962\n"
     ]
    }
   ],
   "source": [
    "fermi_level_rfmodel = RandomForestRegressor(n_estimators=500, random_state=SEED)\n",
    "fermi_level_rfmodel.fit(X_train,fermi_level_train)\n",
    "\n",
    "print(f\"Training Mean Absolute Error: {mae(y_true=fermi_level_train,y_pred=fermi_level_rfmodel.predict(X_train))}\")"
   ]
  },
  {
   "cell_type": "markdown",
   "metadata": {},
   "source": [
    "##### Conduction Band Minimum"
   ]
  },
  {
   "cell_type": "code",
   "execution_count": 9,
   "metadata": {},
   "outputs": [
    {
     "name": "stdout",
     "output_type": "stream",
     "text": [
      "Training Mean Absolute Error: 3.531081359344517e-07\n"
     ]
    }
   ],
   "source": [
    "cbm_rfmodel = RandomForestRegressor(n_estimators=500, random_state=SEED)\n",
    "cbm_rfmodel.fit(X_train,cbm_train)\n",
    "\n",
    "print(f\"Training Mean Absolute Error: {mae(y_true=cbm_train,y_pred=cbm_rfmodel.predict(X_train))}\")"
   ]
  },
  {
   "cell_type": "markdown",
   "metadata": {},
   "source": [
    "#### Energy of formation"
   ]
  },
  {
   "cell_type": "code",
   "execution_count": 11,
   "metadata": {},
   "outputs": [
    {
     "name": "stdout",
     "output_type": "stream",
     "text": [
      "Training Mean Absolute Error: 0.091580068194217\n"
     ]
    }
   ],
   "source": [
    "eform_rfmodel = RandomForestRegressor(n_estimators=500,random_state=SEED)\n",
    "eform_rfmodel.fit(X_train,eform_train)\n",
    "\n",
    "print(f\"Training Mean Absolute Error: {mae(y_true=eform_train,y_pred=eform_rfmodel.predict(X_train))}\")"
   ]
  },
  {
   "cell_type": "markdown",
   "metadata": {},
   "source": [
    "## Model evaluations"
   ]
  },
  {
   "cell_type": "markdown",
   "metadata": {},
   "source": [
    "#### Fermi level"
   ]
  },
  {
   "cell_type": "code",
   "execution_count": 12,
   "metadata": {},
   "outputs": [
    {
     "data": {
      "image/png": "[encoded data removed]",
      "text/plain": [
       "<Figure size 432x288 with 1 Axes>"
      ]
     },
     "metadata": {
      "needs_background": "light"
     },
     "output_type": "display_data"
    },
    {
     "data": {
      "image/png": "[encoded data removed]",
      "text/plain": [
       "<Figure size 432x288 with 1 Axes>"
      ]
     },
     "metadata": {
      "needs_background": "light"
     },
     "output_type": "display_data"
    }
   ],
   "source": [
    "patch_parity_plot(model=fermi_level_rfmodel,X=X_test,y_truth=fermi_level_test,labels=[\"Predicted Fermi Level [eV]\",\"True Fermi Level [eV]\"])\n",
    "parity_plot(model=fermi_level_rfmodel,X=X_test,y_truth=fermi_level_test,labels=[\"Predicted Fermi Level [eV]\",\"True Fermi Level [eV]\"])\n"
   ]
  },
  {
   "cell_type": "markdown",
   "metadata": {},
   "source": [
    "#### Conduction Band Minimum"
   ]
  },
  {
   "cell_type": "code",
   "execution_count": 10,
   "metadata": {},
   "outputs": [
    {
     "data": {
      "image/png": "[encoded data removed]",
      "text/plain": [
       "<Figure size 432x288 with 1 Axes>"
      ]
     },
     "metadata": {
      "needs_background": "light"
     },
     "output_type": "display_data"
    },
    {
     "data": {
      "image/png": "[encoded data removed]",
      "text/plain": [
       "<Figure size 432x288 with 1 Axes>"
      ]
     },
     "metadata": {
      "needs_background": "light"
     },
     "output_type": "display_data"
    }
   ],
   "source": [
    "patch_parity_plot(model=fermi_width_rfmodel,X=X_test,y_truth=fermi_width_test)\n",
    "parity_plot(fermi_level_rfmodel,X_test,fermi_width_test)"
   ]
  },
  {
   "cell_type": "markdown",
   "metadata": {},
   "source": [
    "#### Energy of formation"
   ]
  },
  {
   "cell_type": "code",
   "execution_count": 9,
   "metadata": {},
   "outputs": [
    {
     "data": {
      "image/png": "[encoded data removed]",
      "text/plain": [
       "<Figure size 432x288 with 1 Axes>"
      ]
     },
     "metadata": {
      "needs_background": "light"
     },
     "output_type": "display_data"
    },
    {
     "data": {
      "image/png": "[encoded data removed]",
      "text/plain": [
       "<Figure size 432x288 with 1 Axes>"
      ]
     },
     "metadata": {
      "needs_background": "light"
     },
     "output_type": "display_data"
    }
   ],
   "source": [
    "patch_parity_plot(model=eform_rfmodel,X=X_test,y_truth=eform_test,labels=[\"Predicted Energy of Formation [J]\",\"True Energy of Formation [J]\"])\n",
    "parity_plot(model=eform_rfmodel,X=X_test,y_truth=eform_test,labels=[\"Predicted Energy of Formation [J]\",\"True Energy of formation [J]\"])"
   ]
  }
 ],
 "metadata": {
  "interpreter": {
   "hash": "bad24ed25c2b947732a838092f0d8d41e635372f99b9ee1311e7e0dcafacfedd"
  },
  "kernelspec": {
   "display_name": "Python 3.9.7 64-bit ('tf-gpu': conda)",
   "language": "python",
   "name": "python3"
  },
  "language_info": {
   "codemirror_mode": {
    "name": "ipython",
    "version": 3
   },
   "file_extension": ".py",
   "mimetype": "text/x-python",
   "name": "python",
   "nbconvert_exporter": "python",
   "pygments_lexer": "ipython3",
   "version": "3.9.7"
  },
  "orig_nbformat": 4
 },
 "nbformat": 4,
 "nbformat_minor": 2
}
